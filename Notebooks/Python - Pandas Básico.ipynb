{
 "cells": [
  {
   "cell_type": "markdown",
   "metadata": {},
   "source": [
    "# Bibliotecas"
   ]
  },
  {
   "cell_type": "code",
   "execution_count": 119,
   "metadata": {
    "datalore": {
     "hide_input_from_viewers": true,
     "hide_output_from_viewers": true,
     "node_id": "KUchrWKpUe6lqf1J3LXRN6",
     "type": "CODE"
    }
   },
   "outputs": [],
   "source": [
    "from pandas import DataFrame\n",
    "import pandas as pd\n",
    "from matplotlib import pyplot as plt\n",
    "import seaborn as sns\n",
    "from sklearn import *\n",
    "import numpy as np"
   ]
  },
  {
   "cell_type": "markdown",
   "metadata": {},
   "source": [
    "# Importando o Dataset"
   ]
  },
  {
   "cell_type": "code",
   "execution_count": null,
   "metadata": {
    "datalore": {
     "hide_input_from_viewers": true,
     "hide_output_from_viewers": true,
     "node_id": "HJKIolXZfZMEkYwwIHzUpb",
     "type": "CODE"
    }
   },
   "outputs": [],
   "source": [
    "url = 'https://raw.githubusercontent.com/anasuyapaul/Car_Sales_Dataset_Analysis-/main/Car_dekho.csv'\n",
    "\n",
    "data = pd.read_csv(url, sep=',', encoding='utf8')\n",
    "\n",
    "df = pd.DataFrame(data)\n",
    "\n",
    "df.head()"
   ]
  },
  {
   "cell_type": "code",
   "execution_count": null,
   "metadata": {
    "datalore": {
     "hide_input_from_viewers": true,
     "hide_output_from_viewers": true,
     "node_id": "1dFaNKjRdAQtRw3bE8hNHU",
     "type": "CODE"
    },
    "editable": true,
    "slideshow": {
     "slide_type": ""
    },
    "tags": []
   },
   "outputs": [],
   "source": [
    "# Tipos de dados do meu dataset\n",
    "tipos_dados = pd.DataFrame(df.dtypes, columns=['Tipos de dados'])\n",
    "tipos_dados.columns.name = 'Variáveis'\n",
    "tipos_dados"
   ]
  },
  {
   "cell_type": "code",
   "execution_count": null,
   "metadata": {
    "datalore": {
     "hide_input_from_viewers": true,
     "hide_output_from_viewers": true,
     "node_id": "ht1FjsKVt49P4AOaKtfO19",
     "type": "CODE"
    },
    "editable": true,
    "slideshow": {
     "slide_type": ""
    },
    "tags": []
   },
   "outputs": [],
   "source": [
    "# Maneiras de se obter informações sobre o dataset\n",
    "print(f'A base de dados apresenta {df.shape[0]} registros e {df.shape[1]} campos')\n",
    "\n",
    "# 2 maneira\n",
    "print('A base de dados apresenta {} registros e {} campos'.format(df.shape[0], df.shape[1]))"
   ]
  },
  {
   "cell_type": "code",
   "execution_count": null,
   "metadata": {
    "datalore": {
     "hide_input_from_viewers": true,
     "hide_output_from_viewers": true,
     "node_id": "43NTJt9FFmAb8W9dM3voSW",
     "type": "CODE"
    }
   },
   "outputs": [],
   "source": [
    "# Selecionando os campos do meu dataframe\n",
    "df[['year', 'selling_price', 'km_driven']].describe().round().T"
   ]
  },
  {
   "attachments": {},
   "cell_type": "markdown",
   "metadata": {
    "datalore": {
     "hide_input_from_viewers": true,
     "hide_output_from_viewers": true,
     "node_id": "WgVYWKdiuvM3zYtJICwlvH",
     "type": "MD"
    }
   },
   "source": [
    "# .LOC para seleções\n",
    "Seleciona um grupo de linhas e colunas segundo os rótulos ou uma matriz booleana."
   ]
  },
  {
   "cell_type": "code",
   "execution_count": null,
   "metadata": {
    "datalore": {
     "hide_input_from_viewers": true,
     "hide_output_from_viewers": true,
     "node_id": "jwl9NFuj5qRS5dMQNgBgzP",
     "type": "CODE"
    }
   },
   "outputs": [],
   "source": [
    "df_pd = pd.DataFrame([[1, 2], [4, 5], [7, 8]],\n",
    "     index=['cobra', 'viper', 'sidewinder'],\n",
    "     columns=['max_speed', 'shield'])\n",
    "\n",
    "df_pd.head(5)"
   ]
  },
  {
   "cell_type": "code",
   "execution_count": null,
   "metadata": {
    "datalore": {
     "hide_input_from_viewers": true,
     "hide_output_from_viewers": true,
     "node_id": "3RAyoC02LEst4OtJt3zsZu",
     "type": "CODE"
    }
   },
   "outputs": [],
   "source": [
    "df_pd.loc['viper']"
   ]
  },
  {
   "attachments": {},
   "cell_type": "markdown",
   "metadata": {
    "datalore": {
     "hide_input_from_viewers": true,
     "hide_output_from_viewers": true,
     "node_id": "HgGtkhOcXeSX5xcpeCYtMz",
     "type": "MD"
    }
   },
   "source": [
    "# .ILOC para seleções\n",
    "Seleciona com base nos índices, ou seja, se baseia na posição das informações"
   ]
  },
  {
   "cell_type": "code",
   "execution_count": null,
   "metadata": {
    "datalore": {
     "hide_input_from_viewers": true,
     "hide_output_from_viewers": true,
     "node_id": "WPFKkBBvckURsbYerCBfgr",
     "type": "CODE"
    }
   },
   "outputs": [],
   "source": [
    "df_pd.iloc[0]"
   ]
  },
  {
   "cell_type": "code",
   "execution_count": null,
   "metadata": {
    "datalore": {
     "hide_input_from_viewers": true,
     "hide_output_from_viewers": true,
     "node_id": "h3B9oaon1HDvJk02a8QGrS",
     "type": "CODE"
    }
   },
   "outputs": [],
   "source": [
    "df_pd.iloc[[0, 1]]"
   ]
  },
  {
   "cell_type": "code",
   "execution_count": null,
   "metadata": {
    "datalore": {
     "hide_input_from_viewers": true,
     "hide_output_from_viewers": true,
     "node_id": "LbDlMRTwAcLJHk2SDgNJ0J",
     "type": "CODE"
    }
   },
   "outputs": [],
   "source": [
    "df[(df.Name == 'Maruti Alto 800 LXI Opt') & (df.year == 2023)]"
   ]
  },
  {
   "cell_type": "code",
   "execution_count": null,
   "metadata": {
    "datalore": {
     "hide_input_from_viewers": true,
     "hide_output_from_viewers": true,
     "node_id": "m8F0emIvLw7qfQJHVDxU0E",
     "type": "CODE"
    }
   },
   "outputs": [],
   "source": [
    "list(df.iterrows())"
   ]
  },
  {
   "cell_type": "code",
   "execution_count": null,
   "metadata": {
    "datalore": {
     "hide_input_from_viewers": true,
     "hide_output_from_viewers": true,
     "node_id": "GZX4iiIJeCScvsLUjDEOfK",
     "type": "CODE"
    }
   },
   "outputs": [],
   "source": [
    "for index, row in df.iterrows():\n",
    "    if(2023 - row['year'] != 0):\n",
    "        df.loc[index, 'km_media'] = row['km_driven'] / (2023 - row['year'])\n",
    "    else:\n",
    "        df.loc[index, 'km_media'] = 0\n",
    "df"
   ]
  },
  {
   "cell_type": "code",
   "execution_count": null,
   "metadata": {
    "datalore": {
     "hide_input_from_viewers": true,
     "hide_output_from_viewers": true,
     "node_id": "zIC9BAZXbltl7iuITHyep5",
     "type": "CODE"
    }
   },
   "outputs": [],
   "source": [
    "df[df.year.isna()]"
   ]
  },
  {
   "cell_type": "code",
   "execution_count": null,
   "metadata": {
    "datalore": {
     "hide_input_from_viewers": true,
     "hide_output_from_viewers": true,
     "node_id": "FAHs1Su2sxxMKvVQ83J2DE",
     "type": "CODE"
    }
   },
   "outputs": [],
   "source": [
    "df.describe()"
   ]
  },
  {
   "cell_type": "code",
   "execution_count": null,
   "metadata": {
    "datalore": {
     "hide_input_from_viewers": true,
     "hide_output_from_viewers": true,
     "node_id": "rrEY83fz5M5oMQXOC1Bil8",
     "type": "CODE"
    }
   },
   "outputs": [],
   "source": [
    "df.fillna(0, inplace=True)"
   ]
  },
  {
   "cell_type": "code",
   "execution_count": null,
   "metadata": {
    "datalore": {
     "hide_input_from_viewers": true,
     "hide_output_from_viewers": true,
     "node_id": "RygZvye56TsKEuCJaRV7vW",
     "type": "CODE"
    }
   },
   "outputs": [],
   "source": [
    "df.dropna(subset=['year'], inplace=True)"
   ]
  },
  {
   "cell_type": "markdown",
   "metadata": {},
   "source": [
    "# Obtendo dados da WEB"
   ]
  },
  {
   "cell_type": "code",
   "execution_count": null,
   "metadata": {
    "datalore": {
     "hide_input_from_viewers": true,
     "hide_output_from_viewers": true,
     "node_id": "6B752H76zXAZBa8M4jKHTj",
     "type": "CODE"
    }
   },
   "outputs": [],
   "source": [
    "import requests\n",
    "from bs4 import BeautifulSoup\n",
    "import pandas as pd\n",
    "\n",
    "url='https://www.federalreserve.gov/releases/h3/current/default.htm'\n",
    "response = requests.get(url)\n",
    "html = response.content\n",
    "soup = BeautifulSoup(html, 'html.parser')\n",
    "table = soup.findAll('table')\n",
    "html_file = f'<html><body>{table}</body></html>'\n",
    "df = pd.read_html(html_file)\n",
    "\n",
    "# Como a função read_html retorna uma lista de DataFrames, basta acessar as tabelas pelos índices da lista.\n",
    "# Como temos três tabelas na página usamos os índices 0, 1 ou 2 para acessar os DataFrames que buscamos\n",
    "df[0]"
   ]
  },
  {
   "attachments": {},
   "cell_type": "markdown",
   "metadata": {
    "datalore": {
     "hide_input_from_viewers": true,
     "hide_output_from_viewers": true,
     "node_id": "DgRNB92xxVtp3iGBFkvIaD",
     "type": "MD"
    }
   },
   "source": [
    "# Lendo formatados variados das fontes de dados\n",
    "\n",
    "## **Como ler fontes de dados diferentes:**\n",
    "- Uma base CSV ( pd.read_csv(...) )\n",
    "- Uma base JSON ( pd.read_json(...) )\n",
    "- Uma base TXT ( pd.read_table(...) )\n",
    "- Um arquivo EXCEL ( pd.read_excel(...) )\n",
    "- Uma página HTML ( pd.read_html(...) )\n",
    "\n",
    "## **Vários métodos e atributos úteis de dataframes, como:**\n",
    "- info()\n",
    "- head()\n",
    "- dtypes\n",
    "- columns\n",
    "- shape"
   ]
  },
  {
   "cell_type": "code",
   "execution_count": null,
   "metadata": {
    "datalore": {
     "hide_input_from_viewers": true,
     "hide_output_from_viewers": true,
     "node_id": "dsvofWsO2mPScf069aLRDm",
     "type": "CODE"
    }
   },
   "outputs": [],
   "source": [
    "import pandas as pd"
   ]
  },
  {
   "cell_type": "code",
   "execution_count": null,
   "metadata": {
    "datalore": {
     "hide_input_from_viewers": true,
     "hide_output_from_viewers": true,
     "node_id": "J3NwFFCaKxpSkk4CDGZmCD",
     "type": "CODE"
    }
   },
   "outputs": [],
   "source": [
    "# JSON\n",
    "json = open('/data/notebook_files/dados_variados/aluguel.json')\n",
    "# print(json.read()) imprimir o formato bruto do arquivo JSON\n",
    "\n",
    "df_json = pd.read_json(json) # JSON\n",
    "df_json"
   ]
  },
  {
   "cell_type": "code",
   "execution_count": null,
   "metadata": {
    "datalore": {
     "hide_input_from_viewers": true,
     "hide_output_from_viewers": true,
     "node_id": "UmYevGUgsy5ICmFup89j7r",
     "type": "CODE"
    }
   },
   "outputs": [],
   "source": [
    "txt = open('/data/notebook_files/dados_variados/aluguel.txt')\n",
    "# print(txt.read()) imprimir o formato bruto do arquivo TXT\n",
    "\n",
    "df_txt = pd.read_table(txt) # Table (TXT)\n",
    "df_txt"
   ]
  },
  {
   "cell_type": "code",
   "execution_count": null,
   "metadata": {
    "datalore": {
     "hide_input_from_viewers": true,
     "hide_output_from_viewers": true,
     "node_id": "D1G8sEcANbSOcXE6GqiREf",
     "type": "CODE"
    }
   },
   "outputs": [],
   "source": [
    "df_xlsx = pd.read_excel('/data/notebook_files/dados_variados/aluguel.xlsx') \n",
    "# Arquivos do Excel para CSV pd.read_csv()\n",
    "\n",
    "df_xlsx"
   ]
  },
  {
   "cell_type": "code",
   "execution_count": null,
   "metadata": {
    "datalore": {
     "hide_input_from_viewers": true,
     "hide_output_from_viewers": true,
     "node_id": "wJhB5aGlttCvtHCATgBdEX",
     "type": "CODE"
    }
   },
   "outputs": [],
   "source": [
    "df_html = pd.read_html('/data/notebook_files/dados_variados/dados_html_2.html') # Leitura de arquivo HTML\n",
    "df_html[0]"
   ]
  },
  {
   "cell_type": "code",
   "execution_count": null,
   "metadata": {
    "datalore": {
     "hide_input_from_viewers": true,
     "hide_output_from_viewers": true,
     "node_id": "Ree7c62Drc7ymOgLB81GU2",
     "type": "CODE"
    }
   },
   "outputs": [],
   "source": [
    "dir(dict)"
   ]
  },
  {
   "cell_type": "code",
   "execution_count": null,
   "metadata": {
    "datalore": {
     "hide_input_from_viewers": true,
     "hide_output_from_viewers": true,
     "node_id": "c2yTgyAoWkuYITaZNHgwrS",
     "type": "CODE"
    }
   },
   "outputs": [],
   "source": [
    "help(dict.pop)"
   ]
  },
  {
   "cell_type": "code",
   "execution_count": null,
   "metadata": {},
   "outputs": [],
   "source": [
    "# Reindexando o index do meu dataframe\n",
    "\n",
    "# for i in range(df.shape[0]):\n",
    "#     print(i)\n",
    "\n",
    "# df.index = range(len(df))\n",
    "\n",
    "df.index = range(df.shape[0])\n",
    "df.index\n",
    "\n",
    "df.columns.name ='Id' # alterando o nome da coluna do index\n",
    "df"
   ]
  },
  {
   "cell_type": "code",
   "execution_count": null,
   "metadata": {},
   "outputs": [],
   "source": [
    "# Series\n",
    "\n",
    "exempleOne = [1, 2, 3, 4, 5, 6, 7, 8, 9]\n",
    "\n",
    "series = pd.Series(data)\n",
    "\n",
    "# criando index para uma Series\n",
    "\n",
    "index = ['Linha ' + str(i) for i in range(len(series))] # list comprehension\n",
    "\n",
    "series = pd.Series(data=data, index=index)\n",
    "\n",
    "series\n"
   ]
  },
  {
   "cell_type": "code",
   "execution_count": null,
   "metadata": {},
   "outputs": [],
   "source": [
    "# Estrutura de dados DataFrame\n",
    "\n",
    "exempleTwo = ([1, 2, 3, 4, 5], [6, 7, 8, 9, 10], [11, 12, 13, 14, 15])\n",
    "\n",
    "df1 = pd.DataFrame(data = exempleTwo)\n",
    "\n",
    "index = ['Linha ' + str(i) for i in range(len(df1))]\n",
    "columns = ['Coluna ' + str(i) for i in range(len(df1.columns))]\n",
    "\n",
    "df1 = pd.DataFrame(data = exempleTwo, index=index, columns=columns)\n",
    "\n",
    "df1\n"
   ]
  },
  {
   "cell_type": "markdown",
   "metadata": {},
   "source": [
    "# Importando um dataframe do Kaggle\n"
   ]
  },
  {
   "cell_type": "code",
   "execution_count": null,
   "metadata": {},
   "outputs": [],
   "source": [
    "# Importando os dados do Kaggle\n",
    "\n",
    "!kaggle datasets download -d rubenssjr/brasilian-houses-to-rent\n",
    "!sudo unzip brasilian-houses-to-rent.zip -d ./data/"
   ]
  },
  {
   "cell_type": "code",
   "execution_count": 61,
   "metadata": {},
   "outputs": [
    {
     "name": "stdout",
     "output_type": "stream",
     "text": [
      "city\n",
      "area\n",
      "rooms\n",
      "bathroom\n",
      "parking spaces\n",
      "floor\n",
      "animal\n",
      "furniture\n",
      "hoa (R$)\n",
      "rent amount (R$)\n",
      "property tax (R$)\n",
      "fire insurance (R$)\n",
      "total (R$)\n"
     ]
    }
   ],
   "source": [
    "data = pd.read_csv('/workspaces/datascience-repo/Notebooks/data/houses_to_rent.csv')\n",
    "\n",
    "for i in data.columns:\n",
    "    print(i)\n"
   ]
  },
  {
   "cell_type": "code",
   "execution_count": 62,
   "metadata": {},
   "outputs": [
    {
     "data": {
      "text/html": [
       "<div>\n",
       "<style scoped>\n",
       "    .dataframe tbody tr th:only-of-type {\n",
       "        vertical-align: middle;\n",
       "    }\n",
       "\n",
       "    .dataframe tbody tr th {\n",
       "        vertical-align: top;\n",
       "    }\n",
       "\n",
       "    .dataframe thead th {\n",
       "        text-align: right;\n",
       "    }\n",
       "</style>\n",
       "<table border=\"1\" class=\"dataframe\">\n",
       "  <thead>\n",
       "    <tr style=\"text-align: right;\">\n",
       "      <th></th>\n",
       "      <th>city</th>\n",
       "      <th>area</th>\n",
       "      <th>rooms</th>\n",
       "      <th>bathroom</th>\n",
       "      <th>parking spaces</th>\n",
       "      <th>floor</th>\n",
       "      <th>animal</th>\n",
       "      <th>furniture</th>\n",
       "      <th>hoa (R$)</th>\n",
       "      <th>rent amount (R$)</th>\n",
       "      <th>property tax (R$)</th>\n",
       "      <th>fire insurance (R$)</th>\n",
       "      <th>total (R$)</th>\n",
       "    </tr>\n",
       "  </thead>\n",
       "  <tbody>\n",
       "    <tr>\n",
       "      <th>0</th>\n",
       "      <td>São Paulo</td>\n",
       "      <td>70</td>\n",
       "      <td>2</td>\n",
       "      <td>1</td>\n",
       "      <td>1</td>\n",
       "      <td>7</td>\n",
       "      <td>acept</td>\n",
       "      <td>furnished</td>\n",
       "      <td>2065</td>\n",
       "      <td>3300</td>\n",
       "      <td>211</td>\n",
       "      <td>42</td>\n",
       "      <td>5618</td>\n",
       "    </tr>\n",
       "    <tr>\n",
       "      <th>1</th>\n",
       "      <td>São Paulo</td>\n",
       "      <td>320</td>\n",
       "      <td>4</td>\n",
       "      <td>4</td>\n",
       "      <td>0</td>\n",
       "      <td>20</td>\n",
       "      <td>acept</td>\n",
       "      <td>not furnished</td>\n",
       "      <td>1200</td>\n",
       "      <td>4960</td>\n",
       "      <td>1750</td>\n",
       "      <td>63</td>\n",
       "      <td>7973</td>\n",
       "    </tr>\n",
       "    <tr>\n",
       "      <th>2</th>\n",
       "      <td>Porto Alegre</td>\n",
       "      <td>80</td>\n",
       "      <td>1</td>\n",
       "      <td>1</td>\n",
       "      <td>1</td>\n",
       "      <td>6</td>\n",
       "      <td>acept</td>\n",
       "      <td>not furnished</td>\n",
       "      <td>1000</td>\n",
       "      <td>2800</td>\n",
       "      <td>0</td>\n",
       "      <td>41</td>\n",
       "      <td>3841</td>\n",
       "    </tr>\n",
       "    <tr>\n",
       "      <th>3</th>\n",
       "      <td>Porto Alegre</td>\n",
       "      <td>51</td>\n",
       "      <td>2</td>\n",
       "      <td>1</td>\n",
       "      <td>0</td>\n",
       "      <td>2</td>\n",
       "      <td>acept</td>\n",
       "      <td>not furnished</td>\n",
       "      <td>270</td>\n",
       "      <td>1112</td>\n",
       "      <td>22</td>\n",
       "      <td>17</td>\n",
       "      <td>1421</td>\n",
       "    </tr>\n",
       "    <tr>\n",
       "      <th>4</th>\n",
       "      <td>São Paulo</td>\n",
       "      <td>25</td>\n",
       "      <td>1</td>\n",
       "      <td>1</td>\n",
       "      <td>0</td>\n",
       "      <td>1</td>\n",
       "      <td>not acept</td>\n",
       "      <td>not furnished</td>\n",
       "      <td>0</td>\n",
       "      <td>800</td>\n",
       "      <td>25</td>\n",
       "      <td>11</td>\n",
       "      <td>836</td>\n",
       "    </tr>\n",
       "  </tbody>\n",
       "</table>\n",
       "</div>"
      ],
      "text/plain": [
       "           city  area  rooms  bathroom  parking spaces floor     animal  \\\n",
       "0     São Paulo    70      2         1               1     7      acept   \n",
       "1     São Paulo   320      4         4               0    20      acept   \n",
       "2  Porto Alegre    80      1         1               1     6      acept   \n",
       "3  Porto Alegre    51      2         1               0     2      acept   \n",
       "4     São Paulo    25      1         1               0     1  not acept   \n",
       "\n",
       "       furniture  hoa (R$)  rent amount (R$)  property tax (R$)  \\\n",
       "0      furnished      2065              3300                211   \n",
       "1  not furnished      1200              4960               1750   \n",
       "2  not furnished      1000              2800                  0   \n",
       "3  not furnished       270              1112                 22   \n",
       "4  not furnished         0               800                 25   \n",
       "\n",
       "   fire insurance (R$)  total (R$)  \n",
       "0                   42        5618  \n",
       "1                   63        7973  \n",
       "2                   41        3841  \n",
       "3                   17        1421  \n",
       "4                   11         836  "
      ]
     },
     "execution_count": 62,
     "metadata": {},
     "output_type": "execute_result"
    }
   ],
   "source": [
    "data.head()"
   ]
  },
  {
   "cell_type": "code",
   "execution_count": 63,
   "metadata": {},
   "outputs": [
    {
     "name": "stdout",
     "output_type": "stream",
     "text": [
      "<class 'pandas.core.frame.DataFrame'>\n",
      "RangeIndex: 10692 entries, 0 to 10691\n",
      "Data columns (total 13 columns):\n",
      " #   Column               Non-Null Count  Dtype \n",
      "---  ------               --------------  ----- \n",
      " 0   city                 10692 non-null  object\n",
      " 1   area                 10692 non-null  int64 \n",
      " 2   rooms                10692 non-null  int64 \n",
      " 3   bathroom             10692 non-null  int64 \n",
      " 4   parking spaces       10692 non-null  int64 \n",
      " 5   floor                10692 non-null  object\n",
      " 6   animal               10692 non-null  object\n",
      " 7   furniture            10692 non-null  object\n",
      " 8   hoa (R$)             10692 non-null  int64 \n",
      " 9   rent amount (R$)     10692 non-null  int64 \n",
      " 10  property tax (R$)    10692 non-null  int64 \n",
      " 11  fire insurance (R$)  10692 non-null  int64 \n",
      " 12  total (R$)           10692 non-null  int64 \n",
      "dtypes: int64(9), object(4)\n",
      "memory usage: 1.1+ MB\n"
     ]
    }
   ],
   "source": [
    "data.info()"
   ]
  },
  {
   "cell_type": "code",
   "execution_count": 64,
   "metadata": {},
   "outputs": [
    {
     "data": {
      "text/plain": [
       "city                   0\n",
       "area                   0\n",
       "rooms                  0\n",
       "bathroom               0\n",
       "parking spaces         0\n",
       "floor                  0\n",
       "animal                 0\n",
       "furniture              0\n",
       "hoa (R$)               0\n",
       "rent amount (R$)       0\n",
       "property tax (R$)      0\n",
       "fire insurance (R$)    0\n",
       "total (R$)             0\n",
       "dtype: int64"
      ]
     },
     "execution_count": 64,
     "metadata": {},
     "output_type": "execute_result"
    }
   ],
   "source": [
    "data.isnull().sum()"
   ]
  },
  {
   "cell_type": "code",
   "execution_count": 65,
   "metadata": {},
   "outputs": [
    {
     "name": "stdout",
     "output_type": "stream",
     "text": [
      "int64\n"
     ]
    }
   ],
   "source": [
    "# Convertendo o tipo de dado de uma coluna de Object para Int64\n",
    "data['floor'] = data['floor'].replace(['-', 'NaN'], '0').astype(int)\n",
    "\n",
    "print(data['floor'].dtype)"
   ]
  },
  {
   "cell_type": "code",
   "execution_count": 66,
   "metadata": {},
   "outputs": [
    {
     "data": {
      "text/html": [
       "<div>\n",
       "<style scoped>\n",
       "    .dataframe tbody tr th:only-of-type {\n",
       "        vertical-align: middle;\n",
       "    }\n",
       "\n",
       "    .dataframe tbody tr th {\n",
       "        vertical-align: top;\n",
       "    }\n",
       "\n",
       "    .dataframe thead th {\n",
       "        text-align: right;\n",
       "    }\n",
       "</style>\n",
       "<table border=\"1\" class=\"dataframe\">\n",
       "  <thead>\n",
       "    <tr style=\"text-align: right;\">\n",
       "      <th></th>\n",
       "      <th>cidade</th>\n",
       "      <th>area</th>\n",
       "      <th>quartos</th>\n",
       "      <th>banheiros</th>\n",
       "      <th>vagas estacionamento</th>\n",
       "      <th>andar</th>\n",
       "      <th>animal</th>\n",
       "      <th>mobiliado</th>\n",
       "      <th>condominio</th>\n",
       "      <th>aluguel</th>\n",
       "      <th>iptu</th>\n",
       "      <th>seguro incendio</th>\n",
       "      <th>total</th>\n",
       "    </tr>\n",
       "  </thead>\n",
       "  <tbody>\n",
       "    <tr>\n",
       "      <th>0</th>\n",
       "      <td>São Paulo</td>\n",
       "      <td>70</td>\n",
       "      <td>2</td>\n",
       "      <td>1</td>\n",
       "      <td>1</td>\n",
       "      <td>7</td>\n",
       "      <td>acept</td>\n",
       "      <td>furnished</td>\n",
       "      <td>2065</td>\n",
       "      <td>3300</td>\n",
       "      <td>211</td>\n",
       "      <td>42</td>\n",
       "      <td>5618</td>\n",
       "    </tr>\n",
       "    <tr>\n",
       "      <th>1</th>\n",
       "      <td>São Paulo</td>\n",
       "      <td>320</td>\n",
       "      <td>4</td>\n",
       "      <td>4</td>\n",
       "      <td>0</td>\n",
       "      <td>20</td>\n",
       "      <td>acept</td>\n",
       "      <td>not furnished</td>\n",
       "      <td>1200</td>\n",
       "      <td>4960</td>\n",
       "      <td>1750</td>\n",
       "      <td>63</td>\n",
       "      <td>7973</td>\n",
       "    </tr>\n",
       "    <tr>\n",
       "      <th>2</th>\n",
       "      <td>Porto Alegre</td>\n",
       "      <td>80</td>\n",
       "      <td>1</td>\n",
       "      <td>1</td>\n",
       "      <td>1</td>\n",
       "      <td>6</td>\n",
       "      <td>acept</td>\n",
       "      <td>not furnished</td>\n",
       "      <td>1000</td>\n",
       "      <td>2800</td>\n",
       "      <td>0</td>\n",
       "      <td>41</td>\n",
       "      <td>3841</td>\n",
       "    </tr>\n",
       "    <tr>\n",
       "      <th>3</th>\n",
       "      <td>Porto Alegre</td>\n",
       "      <td>51</td>\n",
       "      <td>2</td>\n",
       "      <td>1</td>\n",
       "      <td>0</td>\n",
       "      <td>2</td>\n",
       "      <td>acept</td>\n",
       "      <td>not furnished</td>\n",
       "      <td>270</td>\n",
       "      <td>1112</td>\n",
       "      <td>22</td>\n",
       "      <td>17</td>\n",
       "      <td>1421</td>\n",
       "    </tr>\n",
       "    <tr>\n",
       "      <th>4</th>\n",
       "      <td>São Paulo</td>\n",
       "      <td>25</td>\n",
       "      <td>1</td>\n",
       "      <td>1</td>\n",
       "      <td>0</td>\n",
       "      <td>1</td>\n",
       "      <td>not acept</td>\n",
       "      <td>not furnished</td>\n",
       "      <td>0</td>\n",
       "      <td>800</td>\n",
       "      <td>25</td>\n",
       "      <td>11</td>\n",
       "      <td>836</td>\n",
       "    </tr>\n",
       "  </tbody>\n",
       "</table>\n",
       "</div>"
      ],
      "text/plain": [
       "         cidade  area  quartos  banheiros  vagas estacionamento  andar  \\\n",
       "0     São Paulo    70        2          1                     1      7   \n",
       "1     São Paulo   320        4          4                     0     20   \n",
       "2  Porto Alegre    80        1          1                     1      6   \n",
       "3  Porto Alegre    51        2          1                     0      2   \n",
       "4     São Paulo    25        1          1                     0      1   \n",
       "\n",
       "      animal      mobiliado  condominio  aluguel  iptu  seguro incendio  total  \n",
       "0      acept      furnished        2065     3300   211               42   5618  \n",
       "1      acept  not furnished        1200     4960  1750               63   7973  \n",
       "2      acept  not furnished        1000     2800     0               41   3841  \n",
       "3      acept  not furnished         270     1112    22               17   1421  \n",
       "4  not acept  not furnished           0      800    25               11    836  "
      ]
     },
     "execution_count": 66,
     "metadata": {},
     "output_type": "execute_result"
    }
   ],
   "source": [
    "dict_eng_port = {\n",
    "    'city': 'cidade',\n",
    "    'area': 'area',\n",
    "    'rooms': 'quartos',\n",
    "    'bathroom': 'banheiros',\n",
    "    'parking spaces': 'vagas estacionamento',\n",
    "    'floor': 'andar',\n",
    "    'animal': 'animal',\n",
    "    'furniture': 'mobiliado',\n",
    "    'hoa (R$)': 'condominio',\n",
    "    'rent amount (R$)': 'aluguel',\n",
    "    'property tax (R$)': 'iptu',\n",
    "    'fire insurance (R$)': 'seguro incendio',\n",
    "    'total (R$)': 'total'\n",
    "\n",
    "}\n",
    "\n",
    "data = data.rename(columns=dict_eng_port)\n",
    "\n",
    "data.head()"
   ]
  },
  {
   "cell_type": "code",
   "execution_count": 67,
   "metadata": {},
   "outputs": [
    {
     "name": "stdout",
     "output_type": "stream",
     "text": [
      "mobiliado\n",
      "not furnished    8086\n",
      "furnished        2606\n",
      "Name: count, dtype: int64\n",
      "----------------->\n",
      "animal\n",
      "acept        8316\n",
      "not acept    2376\n",
      "Name: count, dtype: int64\n"
     ]
    }
   ],
   "source": [
    "print(data['mobiliado'].value_counts())\n",
    "print('----------------->')\n",
    "print(data['animal'].value_counts())"
   ]
  },
  {
   "cell_type": "code",
   "execution_count": 68,
   "metadata": {},
   "outputs": [],
   "source": [
    "data['mobiliado'] = data['mobiliado'].replace({'furnished': '1', 'not furnished': '2'}).astype(int)"
   ]
  },
  {
   "cell_type": "code",
   "execution_count": 82,
   "metadata": {},
   "outputs": [],
   "source": [
    "data['animal'] = data['animal'].replace({'acept': '1', 'not acept': '2'}).astype(int)"
   ]
  },
  {
   "cell_type": "code",
   "execution_count": 83,
   "metadata": {},
   "outputs": [
    {
     "name": "stdout",
     "output_type": "stream",
     "text": [
      "Tipo object, Coluna cidade\n",
      "Tipo int64, Coluna area\n",
      "Tipo int64, Coluna quartos\n",
      "Tipo int64, Coluna banheiros\n",
      "Tipo int64, Coluna vagas estacionamento\n",
      "Tipo int64, Coluna andar\n",
      "Tipo int64, Coluna animal\n",
      "Tipo int64, Coluna mobiliado\n",
      "Tipo int64, Coluna condominio\n",
      "Tipo int64, Coluna aluguel\n",
      "Tipo int64, Coluna iptu\n",
      "Tipo int64, Coluna seguro incendio\n",
      "Tipo int64, Coluna total\n"
     ]
    }
   ],
   "source": [
    "for column, dtype in data.dtypes.items():\n",
    "    print(f'Tipo {dtype}, Coluna {column}')\n"
   ]
  },
  {
   "cell_type": "code",
   "execution_count": 84,
   "metadata": {},
   "outputs": [
    {
     "data": {
      "text/html": [
       "<div>\n",
       "<style scoped>\n",
       "    .dataframe tbody tr th:only-of-type {\n",
       "        vertical-align: middle;\n",
       "    }\n",
       "\n",
       "    .dataframe tbody tr th {\n",
       "        vertical-align: top;\n",
       "    }\n",
       "\n",
       "    .dataframe thead th {\n",
       "        text-align: right;\n",
       "    }\n",
       "</style>\n",
       "<table border=\"1\" class=\"dataframe\">\n",
       "  <thead>\n",
       "    <tr style=\"text-align: right;\">\n",
       "      <th></th>\n",
       "      <th>cidade</th>\n",
       "      <th>area</th>\n",
       "      <th>quartos</th>\n",
       "      <th>banheiros</th>\n",
       "      <th>vagas estacionamento</th>\n",
       "      <th>andar</th>\n",
       "      <th>animal</th>\n",
       "      <th>mobiliado</th>\n",
       "      <th>condominio</th>\n",
       "      <th>aluguel</th>\n",
       "      <th>iptu</th>\n",
       "      <th>seguro incendio</th>\n",
       "      <th>total</th>\n",
       "    </tr>\n",
       "  </thead>\n",
       "  <tbody>\n",
       "    <tr>\n",
       "      <th>0</th>\n",
       "      <td>São Paulo</td>\n",
       "      <td>70</td>\n",
       "      <td>2</td>\n",
       "      <td>1</td>\n",
       "      <td>1</td>\n",
       "      <td>7</td>\n",
       "      <td>1</td>\n",
       "      <td>1</td>\n",
       "      <td>2065</td>\n",
       "      <td>3300</td>\n",
       "      <td>211</td>\n",
       "      <td>42</td>\n",
       "      <td>5618</td>\n",
       "    </tr>\n",
       "    <tr>\n",
       "      <th>1</th>\n",
       "      <td>São Paulo</td>\n",
       "      <td>320</td>\n",
       "      <td>4</td>\n",
       "      <td>4</td>\n",
       "      <td>0</td>\n",
       "      <td>20</td>\n",
       "      <td>1</td>\n",
       "      <td>2</td>\n",
       "      <td>1200</td>\n",
       "      <td>4960</td>\n",
       "      <td>1750</td>\n",
       "      <td>63</td>\n",
       "      <td>7973</td>\n",
       "    </tr>\n",
       "    <tr>\n",
       "      <th>2</th>\n",
       "      <td>Porto Alegre</td>\n",
       "      <td>80</td>\n",
       "      <td>1</td>\n",
       "      <td>1</td>\n",
       "      <td>1</td>\n",
       "      <td>6</td>\n",
       "      <td>1</td>\n",
       "      <td>2</td>\n",
       "      <td>1000</td>\n",
       "      <td>2800</td>\n",
       "      <td>0</td>\n",
       "      <td>41</td>\n",
       "      <td>3841</td>\n",
       "    </tr>\n",
       "    <tr>\n",
       "      <th>3</th>\n",
       "      <td>Porto Alegre</td>\n",
       "      <td>51</td>\n",
       "      <td>2</td>\n",
       "      <td>1</td>\n",
       "      <td>0</td>\n",
       "      <td>2</td>\n",
       "      <td>1</td>\n",
       "      <td>2</td>\n",
       "      <td>270</td>\n",
       "      <td>1112</td>\n",
       "      <td>22</td>\n",
       "      <td>17</td>\n",
       "      <td>1421</td>\n",
       "    </tr>\n",
       "    <tr>\n",
       "      <th>4</th>\n",
       "      <td>São Paulo</td>\n",
       "      <td>25</td>\n",
       "      <td>1</td>\n",
       "      <td>1</td>\n",
       "      <td>0</td>\n",
       "      <td>1</td>\n",
       "      <td>2</td>\n",
       "      <td>2</td>\n",
       "      <td>0</td>\n",
       "      <td>800</td>\n",
       "      <td>25</td>\n",
       "      <td>11</td>\n",
       "      <td>836</td>\n",
       "    </tr>\n",
       "  </tbody>\n",
       "</table>\n",
       "</div>"
      ],
      "text/plain": [
       "         cidade  area  quartos  banheiros  vagas estacionamento  andar  \\\n",
       "0     São Paulo    70        2          1                     1      7   \n",
       "1     São Paulo   320        4          4                     0     20   \n",
       "2  Porto Alegre    80        1          1                     1      6   \n",
       "3  Porto Alegre    51        2          1                     0      2   \n",
       "4     São Paulo    25        1          1                     0      1   \n",
       "\n",
       "   animal  mobiliado  condominio  aluguel  iptu  seguro incendio  total  \n",
       "0       1          1        2065     3300   211               42   5618  \n",
       "1       1          2        1200     4960  1750               63   7973  \n",
       "2       1          2        1000     2800     0               41   3841  \n",
       "3       1          2         270     1112    22               17   1421  \n",
       "4       2          2           0      800    25               11    836  "
      ]
     },
     "execution_count": 84,
     "metadata": {},
     "output_type": "execute_result"
    }
   ],
   "source": [
    "data.head()"
   ]
  },
  {
   "cell_type": "code",
   "execution_count": 100,
   "metadata": {},
   "outputs": [
    {
     "data": {
      "text/plain": [
       "vagas estacionamento\n",
       "1     3630\n",
       "0     2683\n",
       "2     2070\n",
       "3      968\n",
       "4      789\n",
       "5      230\n",
       "6      163\n",
       "8      123\n",
       "7       33\n",
       "10       2\n",
       "12       1\n",
       "Name: count, dtype: int64"
      ]
     },
     "execution_count": 100,
     "metadata": {},
     "output_type": "execute_result"
    }
   ],
   "source": [
    "data['vagas estacionamento'].value_counts()"
   ]
  },
  {
   "cell_type": "code",
   "execution_count": 116,
   "metadata": {},
   "outputs": [],
   "source": [
    "# Condições para substituir valores de uma coluna\n",
    "\n",
    "# Substituindo valores de uma coluna com base em uma valor\n",
    "data['condominio'] = data['condominio'].replace(3, 0)\n",
    "\n",
    "# Substituindo valores de uma coluna com base em uma condição\n",
    "data.loc[data['condominio'] < 21, 'condominio'] = 0"
   ]
  },
  {
   "cell_type": "code",
   "execution_count": 127,
   "metadata": {},
   "outputs": [
    {
     "name": "stdout",
     "output_type": "stream",
     "text": [
      "       cidade  area  quartos  banheiros  vagas estacionamento  andar  animal  \\\n",
      "4   São Paulo    25        1          1                     0      1       2   \n",
      "5   São Paulo   376        3          3                     7      0       1   \n",
      "19  São Paulo   600        4          5                     6      0       1   \n",
      "20  São Paulo   100        7          4                     0      0       1   \n",
      "23  São Paulo    35        1          1                     0      0       1   \n",
      "\n",
      "    mobiliado  condominio  aluguel  iptu  seguro incendio  total  \n",
      "4           2           0      800    25               11    836  \n",
      "5           2           0     8000   834              121   8955  \n",
      "19          2           0    12000  9500              181  21680  \n",
      "20          2           0     3800   118               58   3976  \n",
      "23          2           0     1100     3               14   1117  \n"
     ]
    }
   ],
   "source": [
    "# verificando se a substituição foi feita corretamente\n",
    "result = data[data['condominio'] < 21]\n",
    "print(result.head())\n"
   ]
  },
  {
   "cell_type": "code",
   "execution_count": 129,
   "metadata": {},
   "outputs": [
    {
     "data": {
      "text/plain": [
       "cidade\n",
       "São Paulo         5887\n",
       "Rio de Janeiro    1501\n",
       "Belo Horizonte    1258\n",
       "Porto Alegre      1193\n",
       "Campinas           853\n",
       "Name: count, dtype: int64"
      ]
     },
     "execution_count": 129,
     "metadata": {},
     "output_type": "execute_result"
    }
   ],
   "source": [
    "data['cidade'].value_counts()"
   ]
  },
  {
   "cell_type": "code",
   "execution_count": 152,
   "metadata": {},
   "outputs": [
    {
     "name": "stderr",
     "output_type": "stream",
     "text": [
      "/home/codespace/.local/lib/python3.10/site-packages/seaborn/_oldcore.py:1498: FutureWarning: is_categorical_dtype is deprecated and will be removed in a future version. Use isinstance(dtype, CategoricalDtype) instead\n",
      "  if pd.api.types.is_categorical_dtype(vector):\n",
      "/home/codespace/.local/lib/python3.10/site-packages/seaborn/_oldcore.py:1498: FutureWarning: is_categorical_dtype is deprecated and will be removed in a future version. Use isinstance(dtype, CategoricalDtype) instead\n",
      "  if pd.api.types.is_categorical_dtype(vector):\n",
      "/home/codespace/.local/lib/python3.10/site-packages/seaborn/_oldcore.py:1498: FutureWarning: is_categorical_dtype is deprecated and will be removed in a future version. Use isinstance(dtype, CategoricalDtype) instead\n",
      "  if pd.api.types.is_categorical_dtype(vector):\n"
     ]
    },
    {
     "data": {
      "text/plain": [
       "Text(0.5, 1.0, 'Valores de Aluguel por Cidade')"
      ]
     },
     "execution_count": 152,
     "metadata": {},
     "output_type": "execute_result"
    },
    {
     "data": {
      "image/png": "[encoded data removed]",
      "text/plain": [
       "<Figure size 800x400 with 1 Axes>"
      ]
     },
     "metadata": {},
     "output_type": "display_data"
    }
   ],
   "source": [
    "# Gráfico para visualizar a distribuição dos dados de aluguel por cidade\n",
    "\n",
    "data_sorted = data.sort_values(by='aluguel', ascending=False)\n",
    "\n",
    "ax = sns.barplot(x='cidade', y='aluguel', data=data_sorted, palette='light:salmon')\n",
    "ax.figure.set_size_inches(8, 4)\n",
    "\n",
    "plt.xlabel('Cidade')\n",
    "plt.ylabel('Valor do Aluguel')\n",
    "plt.title('Valores de Aluguel por Cidade')"
   ]
  },
  {
   "cell_type": "code",
   "execution_count": 151,
   "metadata": {},
   "outputs": [
    {
     "data": {
      "image/png": "[encoded data removed]",
      "text/plain": [
       "<Figure size 1200x600 with 2 Axes>"
      ]
     },
     "metadata": {},
     "output_type": "display_data"
    }
   ],
   "source": [
    "# matriz de correlação\n",
    "\n",
    "data_corr = data.drop(['cidade'], axis=1)\n",
    "\n",
    "plt.figure(figsize=[12, 6])\n",
    "paleta = sns.color_palette('light:salmon', as_cmap=True)\n",
    "sns.heatmap(data_corr.corr(), annot=True, cmap=paleta)\n",
    "plt.title('Matriz de Correlação')\n",
    "plt.show()"
   ]
  },
  {
   "cell_type": "code",
   "execution_count": null,
   "metadata": {},
   "outputs": [],
   "source": []
  }
 ],
 "metadata": {
  "datalore": {
   "base_environment": "default",
   "computation_mode": "JUPYTER",
   "package_manager": "pip",
   "packages": [
    {
     "name": "openpyxl",
     "source": "PIP",
     "version": "3.2.0b1"
    },
    {
     "name": "html5lib",
     "source": "PIP",
     "version": "1.1"
    }
   ],
   "report_row_ids": [],
   "version": 3
  },
  "kernelspec": {
   "display_name": "Python 3 (ipykernel)",
   "language": "python",
   "name": "python3"
  },
  "language_info": {
   "codemirror_mode": {
    "name": "ipython",
    "version": 3
   },
   "file_extension": ".py",
   "mimetype": "text/x-python",
   "name": "python",
   "nbconvert_exporter": "python",
   "pygments_lexer": "ipython3",
   "version": "3.10.8"
  }
 },
 "nbformat": 4,
 "nbformat_minor": 4
}
