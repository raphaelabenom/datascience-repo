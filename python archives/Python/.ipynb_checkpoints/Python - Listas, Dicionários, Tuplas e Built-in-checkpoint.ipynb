{
 "cells":[
  {
   "cell_type":"markdown",
   "source":[
    "# Interações no Python\n",
    "\n",
    "Interações referem-se à comunicação dinâmica e em tempo real entre o programa e o usuário. Isso permite a entrada de dados pelo usuário e a exibição de resultados diretamente no console ou terminal, tornando a execução do código mais interativa e amigável."
   ],
   "attachments":{
    
   },
   "metadata":{
    "datalore":{
     "node_id":"Q7XpUJJxVJcuUObPFNosoF",
     "type":"MD",
     "hide_input_from_viewers":true,
     "hide_output_from_viewers":true
    }
   }
  },
  {
   "cell_type":"code",
   "source":[
    "print('Armazenamento de nomes e idades de pessoas')\n",
    "\n",
    "nomes = []\n",
    "idades = []\n",
    "\n",
    "while True:\n",
    "        nome = input('Insira um nome. Para encerrar digite FIM')\n",
    "        if nome != 'FIM':\n",
    "            nomes.append(nome)\n",
    "            idades.append(int(input('Insira a idade:')))\n",
    "        else:\n",
    "            break\n",
    "for i in range(len(nomes)):\n",
    "    print(nomes[i], 'tem', idades[i], 'anos.')"
   ],
   "execution_count":1,
   "outputs":[
    
   ],
   "metadata":{
    "datalore":{
     "node_id":"6skOpcPA5O3YaQuaPqMYOb",
     "type":"CODE",
     "hide_input_from_viewers":true,
     "hide_output_from_viewers":true
    }
   }
  },
  {
   "cell_type":"code",
   "source":[
    "pesquisa = input('Insira um nome ou idade para pesquisar')\n",
    "\n",
    "if pesquisa in nomes:\n",
    "    for i in range(len(nomes)):\n",
    "        if nomes[i] == pesquisa:\n",
    "            print(idades[i])\n",
    "elif pesquisa.isnumeric() and int(pesquisa) in idades:\n",
    "    for i in range(len(idades)):\n",
    "        if idades[i] == int(pesquisa):\n",
    "            print(nomes[i])\n",
    "else:\n",
    "    print('Não encontrado!')"
   ],
   "execution_count":4,
   "outputs":[
    
   ],
   "metadata":{
    "datalore":{
     "node_id":"K00X6h1nav1jrvVAI6NQkn",
     "type":"CODE",
     "hide_input_from_viewers":true,
     "hide_output_from_viewers":true
    }
   }
  },
  {
   "cell_type":"code",
   "source":[
    "frutas = ['maçã', 'banana', 'laranja', 'manga', 'abacaxi', 'uva'] #colchetes\n",
    "precos = [2.50, 1.75, 3.00, 4.50, 7.0, 10.0] #colchetes\n",
    "\n",
    "\n",
    "pesquisa = input('Digite o nome da fruta para saber o preço:')\n",
    "\n",
    "if pesquisa in frutas:\n",
    "    for i in range(len(frutas)):\n",
    "        if frutas[i] == pesquisa:\n",
    "            print(frutas[i],'custa R$', precos[i])\n",
    "else:\n",
    "    print('Não encontrado!')"
   ],
   "execution_count":7,
   "outputs":[
    
   ],
   "metadata":{
    "datalore":{
     "node_id":"BD5Wcgt64lkxjPPpbNs1Ql",
     "type":"CODE",
     "hide_input_from_viewers":true,
     "hide_output_from_viewers":true
    }
   }
  },
  {
   "cell_type":"code",
   "source":[
    "mat = [] #colchetes\n",
    "\n",
    "for i in range(3):\n",
    "  linha = []\n",
    "  for j in range(3):\n",
    "    linha.append(j)\n",
    "  mat.append(linha)\n",
    "\n",
    "for i in range(3):\n",
    "  for j in range(3):\n",
    "    print(\"O elemento da linha \", i,\" coluna \", j, \"é:\", mat[i][j])"
   ],
   "execution_count":1,
   "outputs":[
    
   ],
   "metadata":{
    "datalore":{
     "node_id":"iuH7dguZn4xrv0UBHgre2B",
     "type":"CODE",
     "hide_input_from_viewers":true,
     "hide_output_from_viewers":true
    }
   }
  },
  {
   "cell_type":"code",
   "source":[
    "import math\n",
    "\n",
    "novoprecos = [] #colchetes\n",
    "\n",
    "for i in precos:\n",
    "    novoprecos.append(math.ceil(int(i)))\n",
    "print(novoprecos)"
   ],
   "execution_count":15,
   "outputs":[
    
   ],
   "metadata":{
    "datalore":{
     "node_id":"Hqyb8PxkoOqQgwS6kld6nf",
     "type":"CODE",
     "hide_input_from_viewers":true,
     "hide_output_from_viewers":true
    }
   }
  },
  {
   "cell_type":"markdown",
   "source":[
    "# TUPLAS\n",
    "\n",
    "- Tupla é uma lista que não pode ser alterada.\n",
    "  \n",
    "*Uma tupla em Python é uma estrutura de dados imutável, ordenada e heterogênea, que armazena uma coleção de elementos, permitindo o agrupamento de múltiplos valores sob um único identificador.*\n",
    "\n",
    "> server para garantir que uma determinada lista não seja alterada dentro do código,"
   ],
   "attachments":{
    
   },
   "metadata":{
    "datalore":{
     "node_id":"4rpj6CaM1bBn0YvqVkXE8L",
     "type":"MD",
     "hide_input_from_viewers":true,
     "hide_output_from_viewers":true
    }
   }
  },
  {
   "cell_type":"code",
   "source":[
    "tupla = (6,8,10,12,22,30,69) #parênteses"
   ],
   "execution_count":2,
   "outputs":[
    
   ],
   "metadata":{
    "datalore":{
     "node_id":"4WNvixQ4c3d5X7SPDIEcDm",
     "type":"CODE",
     "hide_input_from_viewers":true,
     "hide_output_from_viewers":true
    }
   }
  },
  {
   "cell_type":"code",
   "source":[
    "type(tupla)"
   ],
   "execution_count":3,
   "outputs":[
    
   ],
   "metadata":{
    "datalore":{
     "node_id":"OkpxmqIOEPmhNgRKXfyO1X",
     "type":"CODE",
     "hide_input_from_viewers":true,
     "hide_output_from_viewers":true
    }
   }
  },
  {
   "cell_type":"code",
   "source":[
    "nome = tuple(['Maria','Joana','Joaquina','Mariana'])\n",
    "\n",
    "nomes_tuplas = ('Maria','Joana','Joaquina','Mariana', ('gol', 'Jetta', 'HVR'))\n",
    "\n",
    "print(nome)\n",
    "print(nome[:2])\n",
    "print(nomes_tuplas[-1][1])"
   ],
   "execution_count":7,
   "outputs":[
    
   ],
   "metadata":{
    "datalore":{
     "node_id":"RL5LG6j4tbBbqZj92HKtEI",
     "type":"CODE",
     "hide_input_from_viewers":true,
     "hide_output_from_viewers":true
    }
   }
  },
  {
   "cell_type":"code",
   "source":[
    "carros_antigos = (\n",
    "    (\n",
    "        'Jetta Variant',\n",
    "        'Motor 4.0 Turbo',\n",
    "        2003,\n",
    "        False,\n",
    "        (\n",
    "        'Rodas de liga', 'Travas elétricas', 'Piloto automático'\n",
    "        )\n",
    "    ),\n",
    "    (\n",
    "        'Passat',\n",
    "        'Motor Diesel',\n",
    "        1991,\n",
    "        True,\n",
    "        (\n",
    "            'Central multimídia', 'Teto panorâmico', 'Freios ABS'\n",
    "        )\n",
    "    )\n",
    ")"
   ],
   "execution_count":8,
   "outputs":[
    
   ],
   "metadata":{
    "datalore":{
     "node_id":"0s0rfY4cc8PrYDaymKyRbk",
     "type":"CODE",
     "hide_input_from_viewers":true,
     "hide_output_from_viewers":true
    }
   }
  },
  {
   "cell_type":"code",
   "source":[
    "# Tuplas\n",
    "for carro in carros_antigos:\n",
    "    print(carro[:4])"
   ],
   "execution_count":9,
   "outputs":[
    
   ],
   "metadata":{
    "datalore":{
     "node_id":"S3wcuvc83MBNTgg6qr1AQj",
     "type":"CODE",
     "hide_input_from_viewers":true,
     "hide_output_from_viewers":true
    }
   }
  },
  {
   "cell_type":"code",
   "source":[
    "# acessórios\n",
    "for carro in carros_antigos:\n",
    "    for item in carro[-1]:\n",
    "        print(item)"
   ],
   "execution_count":10,
   "outputs":[
    
   ],
   "metadata":{
    "datalore":{
     "node_id":"VIiD0A5kOecB6yH4sfEAFX",
     "type":"CODE",
     "hide_input_from_viewers":true,
     "hide_output_from_viewers":true
    }
   }
  },
  {
   "cell_type":"code",
   "source":[
    "print(carros_antigos[0][0])\n",
    "\n",
    "*_, J = carros_antigos\n",
    "\n",
    "J"
   ],
   "execution_count":14,
   "outputs":[
    
   ],
   "metadata":{
    "datalore":{
     "node_id":"Pkqv5bMjZ0G4TjhK0qR6xI",
     "type":"CODE",
     "hide_input_from_viewers":true,
     "hide_output_from_viewers":true
    }
   }
  },
  {
   "cell_type":"code",
   "source":[
    "def media(lista):\n",
    "\tvalor = sum(lista) \/ len(lista)\n",
    "\treturn(valor, len(lista))\n",
    "\n",
    "media([1,2,3,4,5,6,7,8,9])"
   ],
   "execution_count":33,
   "outputs":[
    
   ],
   "metadata":{
    "datalore":{
     "node_id":"TyHVVAafhcmTHlPrVIwzEJ",
     "type":"CODE",
     "hide_input_from_viewers":true,
     "hide_output_from_viewers":true
    }
   }
  },
  {
   "cell_type":"code",
   "source":[
    "# Despacotamento de tupla por variável\n",
    "resultado, n = media([1,2,3,4,5,6,7,8,9])\n",
    "\n",
    "print(resultado)\n",
    "print(n)"
   ],
   "execution_count":34,
   "outputs":[
    
   ],
   "metadata":{
    "datalore":{
     "node_id":"nK8WPkKH1eRVntf5ZAQuED",
     "type":"CODE",
     "hide_input_from_viewers":true,
     "hide_output_from_viewers":true
    }
   }
  },
  {
   "cell_type":"code",
   "source":[
    
   ],
   "execution_count":null,
   "outputs":[
    
   ],
   "metadata":{
    "datalore":{
     "node_id":"J0RB1TIEkV61kmrG614TMp",
     "type":"CODE",
     "hide_input_from_viewers":true,
     "hide_output_from_viewers":true
    }
   }
  },
  {
   "cell_type":"markdown",
   "source":[
    "# Dicionário\n",
    "\n",
    "*Um dicionário em Python é uma estrutura de dados mutável e não ordenada que armazena pares de chave-valor, facilitando a pesquisa e manipulação eficiente de informações.*"
   ],
   "attachments":{
    
   },
   "metadata":{
    "datalore":{
     "node_id":"FR3kJC9hnqacFB7tWxhaFQ",
     "type":"MD",
     "hide_input_from_viewers":true,
     "hide_output_from_viewers":true
    }
   }
  },
  {
   "cell_type":"code",
   "source":[
    "dicionario = {\n",
    "    'maçã': 3.5,\n",
    "    'banana': 4.0,\n",
    "    'laranja': 2.5,\n",
    "    'manga': 6.0,\n",
    "    'abacaxi': 7.5,\n",
    "    'uva': 5.0\n",
    "} #chaves\n",
    "\n",
    "print(dicionario)"
   ],
   "execution_count":28,
   "outputs":[
    
   ],
   "metadata":{
    "datalore":{
     "node_id":"GWpfahUVdGdpVa7BB1WvW7",
     "type":"CODE",
     "hide_input_from_viewers":true,
     "hide_output_from_viewers":true
    }
   }
  },
  {
   "cell_type":"code",
   "source":[
    "import math\n",
    "\n",
    "valores = []\n",
    "\n",
    "for i in dicionario.values():\n",
    "    valores.append(math.ceil(i))\n",
    "\n",
    "print(valores)\n",
    "\n",
    "# dicionario.values\n",
    "# dicionario.keys\n",
    "# dicionario.clear"
   ],
   "execution_count":37,
   "outputs":[
    
   ],
   "metadata":{
    "datalore":{
     "node_id":"ylChBpMzwm4I1fT4TOPOP5",
     "type":"CODE",
     "hide_input_from_viewers":true,
     "hide_output_from_viewers":true
    }
   }
  },
  {
   "cell_type":"code",
   "source":[
    "dicionario.clear()\n",
    "print(dicionario)"
   ],
   "execution_count":42,
   "outputs":[
    
   ],
   "metadata":{
    "datalore":{
     "node_id":"5c40FIRh9ceWLlyt7gg1yt",
     "type":"CODE",
     "hide_input_from_viewers":true,
     "hide_output_from_viewers":true
    }
   }
  },
  {
   "cell_type":"code",
   "source":[
    "# Criando um dicionário\n",
    "\n",
    "print('Armazenamento de nomes e idades de pessoas')\n",
    "\n",
    "cadastro = {}\n",
    "\n",
    "while True:\n",
    "    nome = input('Insira um nome. Para encerrar digite => fim')\n",
    "    if nome != 'fim':\n",
    "        cadastro[nome] = int(input('Insira a idade:'))\n",
    "    else:\n",
    "        break\n",
    "\n",
    "for i in cadastro:\n",
    "    print(i, 'tem', cadastro[i], 'anos.')\n"
   ],
   "execution_count":55,
   "outputs":[
    
   ],
   "metadata":{
    "datalore":{
     "node_id":"RXEIgD0N1IJBPAbtRu9nvg",
     "type":"CODE",
     "hide_input_from_viewers":true,
     "hide_output_from_viewers":true
    }
   }
  },
  {
   "cell_type":"code",
   "source":[
    "\n",
    "# Criando uma lista de dicionários\n",
    "\n",
    "print('Armazenamento de nomes e idades de pessoas')\n",
    "\n",
    "cadastro = []\n",
    "\n",
    "while True:\n",
    "    nome = input('Insira um nome. Para encerrar digite => fim')\n",
    "    if nome != 'fim':\n",
    "        cadastro.append(\n",
    "            {\n",
    "            'Nome': nome,\n",
    "            'Idade': int(input('Insira a idade:'))\n",
    "            }\n",
    "            )\n",
    "    else:\n",
    "        break\n",
    "\n",
    "for i in cadastro:\n",
    "    print(i['Nome'], 'tem', i['Idade'], 'anos.')"
   ],
   "execution_count":58,
   "outputs":[
    
   ],
   "metadata":{
    "datalore":{
     "node_id":"otnxBF7N1uB0J0FgaLc1zD",
     "type":"CODE",
     "hide_input_from_viewers":true,
     "hide_output_from_viewers":true
    }
   }
  },
  {
   "cell_type":"code",
   "source":[
    "print(cadastro)"
   ],
   "execution_count":59,
   "outputs":[
    
   ],
   "metadata":{
    "datalore":{
     "node_id":"vm6TEFWt572nwSo76dv59i",
     "type":"CODE",
     "hide_input_from_viewers":true,
     "hide_output_from_viewers":true
    }
   }
  },
  {
   "cell_type":"code",
   "source":[
    "pesquisa = input('Insira um nome ou idade para pesquisar')\n",
    "\n",
    "if pesquisa in cadastro.items():\n",
    "    for i in cadastro.values():\n",
    "        if cadastro == pesquisa:\n",
    "            print(nome)\n",
    "            \n",
    "elif pesquisa.isnumeric() and int(pesquisa) in cadastro.values():\n",
    "    for i in cadastro.values():\n",
    "        if cadastro.values() == int(pesquisa):\n",
    "            print(cadastro.values())\n",
    "else:\n",
    "    print('Não encontrado!')"
   ],
   "execution_count":45,
   "outputs":[
    
   ],
   "metadata":{
    "datalore":{
     "node_id":"uXoMSlfZXGhAPVTgsOrSMI",
     "type":"CODE",
     "hide_input_from_viewers":true,
     "hide_output_from_viewers":true
    }
   }
  },
  {
   "cell_type":"code",
   "source":[
    "import string\n",
    "import random\n",
    "\n",
    "def random_word(size=8, chars=string.ascii_uppercase + string.digits):\n",
    "    return ''.join(random.choice(chars) for _ in range(size))\n",
    "\n",
    "def random_number(size=21):\n",
    "    return [random.randrange(10, 1000000) for _ in range(size)]\n",
    "\n",
    "random_words = [random_word() for _ in range(21)]\n",
    "random_numbers = random_number()\n",
    "\n",
    "print(random_words)\n",
    "print(random_numbers)"
   ],
   "execution_count":15,
   "outputs":[
    
   ],
   "metadata":{
    "datalore":{
     "node_id":"pZsPaSq2KMXTZsCW3DEHnD",
     "type":"CODE",
     "hide_input_from_viewers":true,
     "hide_output_from_viewers":true
    }
   }
  },
  {
   "cell_type":"code",
   "source":[
    "dictionary = dict(zip(random_words, random_numbers))\n",
    "\n",
    "for index, (key, value) in enumerate(dictionary.items()):\n",
    "    print(f\"{index}: {key} - {value}\")"
   ],
   "execution_count":21,
   "outputs":[
    
   ],
   "metadata":{
    "datalore":{
     "node_id":"VdUKOQpVcHVIl8PwwNuyft",
     "type":"CODE",
     "hide_input_from_viewers":true,
     "hide_output_from_viewers":true
    }
   }
  },
  {
   "cell_type":"code",
   "source":[
    "# Chave e valor\n",
    "print(dictionary['6ETUDSMW'])\n",
    "print('813535' in dictionary)\n",
    "print('6ETUDSMW' in dictionary)"
   ],
   "execution_count":23,
   "outputs":[
    
   ],
   "metadata":{
    "datalore":{
     "node_id":"hFf0YobPi0MGwHHL30BnUT",
     "type":"CODE",
     "hide_input_from_viewers":true,
     "hide_output_from_viewers":true
    }
   }
  },
  {
   "cell_type":"code",
   "source":[
    "# Gerar uma cópia do dicionário\n",
    "copy_dictionary = dictionary.copy()\n",
    "copy_dictionary"
   ],
   "execution_count":24,
   "outputs":[
    
   ],
   "metadata":{
    "datalore":{
     "node_id":"336jZzK2a0hF1tktZttXsX",
     "type":"CODE",
     "hide_input_from_viewers":true,
     "hide_output_from_viewers":true
    }
   }
  },
  {
   "cell_type":"code",
   "source":[
    "# Incluir\n",
    "copy_dictionary['MEUNUMERO'] = 666668\n",
    "copy_dictionary"
   ],
   "execution_count":25,
   "outputs":[
    
   ],
   "metadata":{
    "datalore":{
     "node_id":"guOUJMd0wQVJHdBrf7hYsj",
     "type":"CODE",
     "hide_input_from_viewers":true,
     "hide_output_from_viewers":true
    }
   }
  },
  {
   "cell_type":"code",
   "source":[
    "# Excluir\n",
    "del copy_dictionary['MEUNUMERO']\n",
    "copy_dictionary"
   ],
   "execution_count":26,
   "outputs":[
    
   ],
   "metadata":{
    "datalore":{
     "node_id":"rlSGwAjxP3dbMc4AqcHlQn",
     "type":"CODE",
     "hide_input_from_viewers":true,
     "hide_output_from_viewers":true
    }
   }
  },
  {
   "cell_type":"code",
   "source":[
    "# Atualizar um valor no dicionário\n",
    "copy_dictionary.update(H75G89AN=95000, MH7KG5Z2=555555)"
   ],
   "execution_count":27,
   "outputs":[
    
   ],
   "metadata":{
    "datalore":{
     "node_id":"ZNhMCEmZNLpa7p587us98j",
     "type":"CODE",
     "hide_input_from_viewers":true,
     "hide_output_from_viewers":true
    }
   }
  },
  {
   "cell_type":"code",
   "source":[
    "# Armazenar de modo excludente um dado do dicionário\n",
    "unique_data = copy_dictionary.pop('L03JRY3Z', 'Chave não encontrada')\n",
    "print(unique_data)"
   ],
   "execution_count":null,
   "outputs":[
    
   ],
   "metadata":{
    "datalore":{
     "node_id":"mYA5JZYlXFXRLXzqpr36Bn",
     "type":"CODE",
     "hide_input_from_viewers":true,
     "hide_output_from_viewers":true
    }
   }
  },
  {
   "cell_type":"code",
   "source":[
    "# Zera o dicionário\n",
    "copy_dictionary.clear()\n",
    "copy_dictionary"
   ],
   "execution_count":null,
   "outputs":[
    
   ],
   "metadata":{
    "datalore":{
     "node_id":"0oMMrF2t4sb6Fy2aWWdrJK",
     "type":"CODE",
     "hide_input_from_viewers":true,
     "hide_output_from_viewers":true
    }
   }
  },
  {
   "cell_type":"code",
   "source":[
    "print(copy_dictionary.items())\n",
    "print('------------------------->')\n",
    "print(copy_dictionary.keys())\n",
    "print('------------------------->')\n",
    "print(copy_dictionary.values())"
   ],
   "execution_count":null,
   "outputs":[
    
   ],
   "metadata":{
    "datalore":{
     "node_id":"3jwTqXIu9MxR9HrMdFrjiW",
     "type":"CODE",
     "hide_input_from_viewers":true,
     "hide_output_from_viewers":true
    }
   }
  },
  {
   "cell_type":"markdown",
   "source":[
    "# List comprehension\n",
    "*List comprehension é uma maneira concisa e eficiente de criar listas em Python. É uma sintaxe compacta para criar listas a partir de outras listas ou iteráveis, sem precisar escrever loops explícitos.*"
   ],
   "attachments":{
    
   },
   "metadata":{
    "datalore":{
     "node_id":"VzZDRRxCgRkxomGfbvo09w",
     "type":"MD",
     "hide_input_from_viewers":true,
     "hide_output_from_viewers":true
    }
   }
  },
  {
   "cell_type":"code",
   "source":[
    "# Criando uma lista de 1 a 100 e imprimir somente os números pares que são divisíveis por 4 usando list comprehension\n",
    "\n",
    "numeros = list(range(1, 101))\n",
    "\n",
    "pares = [numero for numero in numeros if numero % 2 == 0 and numero % 4 == 0]\n",
    "\n",
    "# [expressao for elemento in iteravel if condicao]\n",
    "\n",
    "# para cada numero na lista de numeros se numero for divisível por 2 e 4 então retorne numero\n",
    "\n",
    "print(pares)\n",
    "type(pares)"
   ],
   "execution_count":1,
   "outputs":[
    
   ],
   "metadata":{
    "datalore":{
     "node_id":"eWNaPFZwQB1IYRoBcMJZwc",
     "type":"CODE",
     "hide_input_from_viewers":true,
     "hide_output_from_viewers":true
    }
   }
  },
  {
   "cell_type":"code",
   "source":[
    "numbers = list(range(0, 20))\n",
    "\n",
    "mulpliticacao = [number * 2 for number in numbers]\n",
    "\n",
    "pares = [x for x in range(10) if x % 2 == 0]\n",
    "\n",
    "# [expressao for elemento in iteravel if condicao]\n",
    "\n",
    "print(mulpliticacao)\n",
    "print(pares)"
   ],
   "execution_count":9,
   "outputs":[
    
   ],
   "metadata":{
    "datalore":{
     "node_id":"r3aSGUWkEbRmH4W40nP99T",
     "type":"CODE",
     "hide_input_from_viewers":true,
     "hide_output_from_viewers":true
    }
   }
  },
  {
   "cell_type":"code",
   "source":[
    "def bubblesort(arr):\n",
    "    n = len(arr)\n",
    "    for i in range(n):\n",
    "        for j in len(n - 1):\n",
    "            if arr[j] > arr[j + 1]:"
   ],
   "execution_count":null,
   "outputs":[
    
   ],
   "metadata":{
    "datalore":{
     "node_id":"MuSF1KuAX8iR6WwlDKi3Zy",
     "type":"CODE",
     "hide_input_from_viewers":true,
     "hide_output_from_viewers":true
    }
   }
  },
  {
   "cell_type":"code",
   "source":[
    "# Acessando elementos por índice"
   ],
   "execution_count":null,
   "outputs":[
    
   ],
   "metadata":{
    "datalore":{
     "node_id":"5AQSuKMv4R1lDTadeOyUAQ",
     "type":"CODE",
     "hide_input_from_viewers":true,
     "hide_output_from_viewers":true
    }
   }
  },
  {
   "cell_type":"code",
   "source":[
    
   ],
   "execution_count":null,
   "outputs":[
    
   ],
   "metadata":{
    "datalore":{
     "node_id":"CEI0WTGtG1M2F4zGp51nXZ",
     "type":"CODE",
     "hide_input_from_viewers":true,
     "hide_output_from_viewers":true
    }
   }
  },
  {
   "cell_type":"markdown",
   "source":[
    "# Funções\n",
    "\n",
    "Funções são blocos de código reutilizáveis que executam tarefas específicas. Elas ajudam a modularizar o código, melhorando a legibilidade e manutenção. As funções são definidas com \"def\" seguido do nome e parâmetros opcionais, retornando resultados com \"return\". Podem ser chamadas várias vezes em diferentes partes do programa."
   ],
   "attachments":{
    
   },
   "metadata":{
    "datalore":{
     "node_id":"qvuzJT5awNkWDlP7dDcdNH",
     "type":"MD",
     "hide_input_from_viewers":true,
     "hide_output_from_viewers":true
    }
   }
  },
  {
   "cell_type":"markdown",
   "source":[
    "<!-- O que são funções em python e qual a sua estrutura? --> \n",
    "\n",
    "As funções em Python são blocos de código reutilizáveis que são usados para realizar uma tarefa específica. A estrutura de uma função no Python é definida da seguinte maneira:\n",
    "\n",
    "1. A palavra-chave `def` é usada para declarar funções em Python.\n",
    "2. Isso é seguido pelo nome da função.\n",
    "3. Depois do nome, nós incluímos parênteses que podem conter nenhum, um ou mais de um parâmetros.\n",
    "4. A linha termina com dois pontos `:`.\n",
    "5. Após isso, a parte indentada é o corpo da função onde escrevemos os comandos que desejamos que a função execute.\n",
    "6. Se a função deve retornar algum valor, usamos a palavra-chave `return`. Opcional, por padrão ele retorna None\n",
    "7. Por fim, podemos chamar a função pelo seu nome com os parâmetros adequados (se houver) dentro dos parênteses.\n",
    "\n",
    "\n",
    "```python\n",
    "def nome(parametro1, parametro2):   \n",
    "    lógica do negócio\n",
    "    return opcional, por padrão ele retorna None\n",
    "    \n",
    "nome() # chamda da função\n",
    "```"
   ],
   "attachments":{
    
   },
   "metadata":{
    "datalore":{
     "node_id":"iK1gXsrfKRU5DgOgYXgfw7",
     "type":"MD",
     "hide_input_from_viewers":true,
     "hide_output_from_viewers":true
    }
   }
  },
  {
   "cell_type":"code",
   "source":[
    "dados = {\n",
    "    'Crossfox': {'km': 35000, 'ano': 2005}, \n",
    "    'DS5': {'km': 17000, 'ano': 2015}, \n",
    "    'Fusca': {'km': 130000, 'ano': 1979}, \n",
    "    'Jetta': {'km': 56000, 'ano': 2011}, \n",
    "    'Passat': {'km': 62000, 'ano': 1999}\n",
    "}"
   ],
   "execution_count":29,
   "outputs":[
    
   ],
   "metadata":{
    "datalore":{
     "node_id":"cHItaWR8HLl4g1iJIS3bOf",
     "type":"CODE",
     "hide_input_from_viewers":true,
     "hide_output_from_viewers":true
    }
   }
  },
  {
   "cell_type":"code",
   "source":[
    "def km_media(dataset: dict, ano_atual: int):\n",
    "    result = {}\n",
    "    for item in dataset.items():\n",
    "        media = item[1]['km'] \/ (ano_atual - item[1]['ano'])\n",
    "        result.update({ item[0]: media })\n",
    "    return result\n",
    "\n",
    "km_media(dados, 2019)"
   ],
   "execution_count":30,
   "outputs":[
    
   ],
   "metadata":{
    "datalore":{
     "node_id":"IRIlA7vXdLYWSPl0HuTqDB",
     "type":"CODE",
     "hide_input_from_viewers":true,
     "hide_output_from_viewers":true
    }
   }
  },
  {
   "cell_type":"code",
   "source":[
    "def km_media(dataset, ano_atual):\n",
    "    result = {}\n",
    "    for item in dataset.items():\n",
    "        media = item[1]['km'] \/ (ano_atual - item[1]['ano'])\n",
    "        item[1].update({ 'km_media': media })\n",
    "        result.update({ item[0]: item[1] })\n",
    "    return result\n",
    "\n",
    "km_media(dados, 2019)"
   ],
   "execution_count":31,
   "outputs":[
    
   ],
   "metadata":{
    "datalore":{
     "node_id":"J986earcD4OmFGSEqARLoH",
     "type":"CODE",
     "hide_input_from_viewers":true,
     "hide_output_from_viewers":true
    }
   }
  },
  {
   "cell_type":"code",
   "source":[
    "# Buscar os modelos maior ou igual ao ano 2000\n",
    "for item in dados.items():\n",
    "    if(item[1]['ano'] >= 2000):\n",
    "        print(item[0])"
   ],
   "execution_count":32,
   "outputs":[
    
   ],
   "metadata":{
    "datalore":{
     "node_id":"7Rh1yFk5V4rSov4BSiA7CT",
     "type":"CODE",
     "hide_input_from_viewers":true,
     "hide_output_from_viewers":true
    }
   }
  },
  {
   "cell_type":"code",
   "source":[
    "# Função simples\n",
    "\n",
    "lists = [1,2,12,7,8]\n",
    "\n",
    "def adivinha(n):\n",
    "    if n == 7:\n",
    "        return \"Você foi contemplado\"\n",
    "    else:\n",
    "        return 'Não foi dessa vez'\n",
    "\n",
    "for list in lists:\n",
    "    print(adivinha(list))"
   ],
   "execution_count":null,
   "outputs":[
    
   ],
   "metadata":{
    "datalore":{
     "node_id":"4AjtMR1NniCa6YMsoAhIGJ",
     "type":"CODE",
     "hide_input_from_viewers":true,
     "hide_output_from_viewers":true
    }
   }
  },
  {
   "cell_type":"code",
   "source":[
    "def filtra_par(x):\n",
    "    if x%2 == 0:\n",
    "        return x\n",
    "    else:\n",
    "        return '----------'\n",
    "\n",
    "for numero in range(10):\n",
    "    print(filtra_par(numero))"
   ],
   "execution_count":null,
   "outputs":[
    
   ],
   "metadata":{
    "datalore":{
     "node_id":"gatNjIMdwWqGYoAqnvtPEZ",
     "type":"CODE",
     "hide_input_from_viewers":true,
     "hide_output_from_viewers":true
    }
   }
  },
  {
   "cell_type":"markdown",
   "source":[
    "# Built-in Functions\n",
    "\n",
    "https:\/\/docs.python.org\/3.6\/library\/functions.html\n",
    "\n",
    "Built-in Functions são funções pré-definidas pela linguagem que estão disponíveis para uso imediato, sem a necessidade de importar bibliotecas adicionais. Elas permitem realizar tarefas comuns de forma eficiente, como conversões de tipo, manipulação de sequências, operações matemáticas, entrada\/saída de dados e muito mais."
   ],
   "attachments":{
    
   },
   "metadata":{
    "datalore":{
     "node_id":"sDOtaLiUnifCzsxfFpZ7BK",
     "type":"MD",
     "hide_input_from_viewers":true,
     "hide_output_from_viewers":true
    }
   }
  },
  {
   "cell_type":"code",
   "source":[
    "help(sum)\n",
    "help(print)"
   ],
   "execution_count":null,
   "outputs":[
    
   ],
   "metadata":{
    "datalore":{
     "node_id":"S0cy0eEHWMeBkYmbd0n0p2",
     "type":"CODE",
     "hide_input_from_viewers":true,
     "hide_output_from_viewers":true
    }
   }
  }
 ],
 "metadata":{
  "kernelspec":{
   "display_name":"Python",
   "language":"python",
   "name":"python"
  },
  "datalore":{
   "computation_mode":"JUPYTER",
   "package_manager":"pip",
   "base_environment":"default",
   "packages":[
    
   ],
   "report_row_ids":[
    
   ],
   "version":3
  }
 },
 "nbformat":4,
 "nbformat_minor":4
}